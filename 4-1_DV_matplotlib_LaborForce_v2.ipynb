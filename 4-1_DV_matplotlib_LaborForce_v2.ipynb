{
 "cells": [
  {
   "cell_type": "markdown",
   "metadata": {},
   "source": [
    "# (v2) Data Visualization of Labor Force using `matplotlib`\n",
    "\n",
    "The following is a set of Python libraries which power almost all data science tasks. These libraries are as follows:\n",
    " - numpy\n",
    " - pandas\n",
    " - matplotlib\n",
    "\n",
    "After using numpy and pandas for analyzing arrays, series, and dataframes, we turn to matplotlib. Matplotlib is a common Python package for 2d graphics. \n",
    "\n",
    "**Import**\n",
    "\n",
    "The first thing that we have to do is to import it.\n",
    "\n",
    "`matplotlib can` be used in \"interactive\" mode through Jupyter notebooks. To activate this function, simply include the line `%matplotlib inline` in your notebook after importing `pyplot` from `matplotlib`.\n",
    "\n",
    "<hr>\n",
    "\n",
    "An alternate library for plotting with different styling is `seaborn`. But `seaborn` is built on top of `matplotlib` with more visualization styles. \n",
    "\n",
    "The `seaborn` library is the main library used in the Kaggle data visualization course. In addition, note that `pandas` itself has visualization features as well.\n",
    "\n",
    "To know more about these libraries and maximize their samples, you can visit the following:\n",
    "* [`matplotlib` Documentation](https://matplotlib.org/)\n",
    "* [`seaborn` Documentation](https://seaborn.pydata.org/)"
   ]
  },
  {
   "cell_type": "code",
   "execution_count": 1,
   "metadata": {},
   "outputs": [],
   "source": [
    "import numpy as np\n",
    "import pandas as pd\n",
    "import matplotlib.pyplot as plt # plt is the convention for the alias\n",
    "import seaborn as sns\n",
    "import math as ma\n",
    "import os\n",
    "\n",
    "%matplotlib inline"
   ]
  },
  {
   "cell_type": "markdown",
   "metadata": {},
   "source": [
    "Before we get into learning some stuff, lets set up the `style` of our plots. Starting from Matplotlib v1.5, you have many different plotting `styles` to chose from. To get all the list of supported ones, run \n",
    "```ipython\n",
    "plt.style.available\n",
    "```\n",
    "\n",
    "Or check out the gallery [here](https://matplotlib.org/3.1.1/gallery/style_sheets/style_sheets_reference.html).\n",
    "\n",
    "To be able to change the `style` that Matplotlib comes with for all of your plots, simply call\n",
    "\n",
    "```ipython\n",
    "plt.style.use('ggplot')\n",
    "```"
   ]
  },
  {
   "cell_type": "code",
   "execution_count": 2,
   "metadata": {},
   "outputs": [
    {
     "data": {
      "text/plain": [
       "['Solarize_Light2',\n",
       " '_classic_test_patch',\n",
       " '_mpl-gallery',\n",
       " '_mpl-gallery-nogrid',\n",
       " 'bmh',\n",
       " 'classic',\n",
       " 'dark_background',\n",
       " 'fast',\n",
       " 'fivethirtyeight',\n",
       " 'ggplot',\n",
       " 'grayscale',\n",
       " 'seaborn',\n",
       " 'seaborn-bright',\n",
       " 'seaborn-colorblind',\n",
       " 'seaborn-dark',\n",
       " 'seaborn-dark-palette',\n",
       " 'seaborn-darkgrid',\n",
       " 'seaborn-deep',\n",
       " 'seaborn-muted',\n",
       " 'seaborn-notebook',\n",
       " 'seaborn-paper',\n",
       " 'seaborn-pastel',\n",
       " 'seaborn-poster',\n",
       " 'seaborn-talk',\n",
       " 'seaborn-ticks',\n",
       " 'seaborn-white',\n",
       " 'seaborn-whitegrid',\n",
       " 'tableau-colorblind10']"
      ]
     },
     "execution_count": 2,
     "metadata": {},
     "output_type": "execute_result"
    }
   ],
   "source": [
    "plt.style.available"
   ]
  },
  {
   "cell_type": "code",
   "execution_count": 3,
   "metadata": {},
   "outputs": [],
   "source": [
    "plt.style.use('seaborn-colorblind')"
   ]
  },
  {
   "cell_type": "markdown",
   "metadata": {
    "tags": []
   },
   "source": [
    "## Parts of a Plot (in `matplotlib`)\n",
    "Before we begin applying the visualization techniques, we first need to know how charts or **figures** are made in `matplotlib`.\n",
    "\n",
    "### 01. Figures\n",
    "\n",
    "A `Figure` object serves as the '_canvas_' of your plot. You can create as many figures as you need but a `Figure` is mandatory for any plotting to happen.\n",
    "\n",
    "#### Figure Properties\n",
    "- ##### figsize : \n",
    "tuple of integers, width, height in inches.   \n",
    "- ##### dpi : \n",
    "integer, resolution of the figure in dots per inch."
   ]
  },
  {
   "cell_type": "code",
   "execution_count": 4,
   "metadata": {},
   "outputs": [
    {
     "data": {
      "image/png": "[encoded data removed]",
      "text/plain": [
       "<Figure size 720x360 with 1 Axes>"
      ]
     },
     "metadata": {
      "needs_background": "light"
     },
     "output_type": "display_data"
    }
   ],
   "source": [
    "fig = plt.figure(figsize=(10, 5))\n",
    "\n",
    "# To plot, we just call plot()\n",
    "plt.plot()\n",
    "plt.savefig('blankplot.png')"
   ]
  },
  {
   "cell_type": "markdown",
   "metadata": {},
   "source": [
    "You may also save the figure generated using the function `plt.savefig(<file_name>)`. The default format saved is `png`. There are many other formats supported. To get a list of all the formats, you can use this function: `fig.canvas.get_supported_filetypes()`"
   ]
  },
  {
   "cell_type": "markdown",
   "metadata": {},
   "source": [
    "### 02. Axes and a Basic Line Plot\n",
    "\n",
    "We can see from above that `matplotlib` automatically creates the axes for us in a figure. An `Axes` object contains [`Axis`](http://matplotlib.org/api/axis_api.html#matplotlib.axis.Axis) objects (and many other things) and it belongs to just one `Figure`. \n",
    "\n",
    "Lastly, below is a basic line plot of a list of x and y values. "
   ]
  },
  {
   "cell_type": "code",
   "execution_count": 5,
   "metadata": {},
   "outputs": [
    {
     "data": {
      "image/png": "[encoded data removed]",
      "text/plain": [
       "<Figure size 600x400 with 1 Axes>"
      ]
     },
     "metadata": {
      "needs_background": "light"
     },
     "output_type": "display_data"
    }
   ],
   "source": [
    "fig = plt.figure(figsize=(6,4), dpi=100)\n",
    "\n",
    "#Axes object with axis\n",
    "ax = fig.add_subplot(111)\n",
    "\n",
    "#List of Values (Note: you may use data series here instead of an invented list!)\n",
    "x = list(range(1,11))\n",
    "y = [i**2 for i in x]\n",
    "\n",
    "#Basic Line Plot\n",
    "plt.plot(x, y)\n",
    "plt.show()"
   ]
  },
  {
   "cell_type": "markdown",
   "metadata": {},
   "source": [
    "```ipython\n",
    "fig.add_subplot(numrows numcols fignum)\n",
    "```\n",
    "> `fignum` ranges from 1 to numrows*numcols.\n",
    "\n",
    "> Each figure can have as many axes and subplots as needed. See the [`Figure` class documentation](https://matplotlib.org/3.1.1/api/_as_gen/matplotlib.figure.Figure.html) for more details.\n",
    "\n",
    "If you want to place an axes manually, i.e., not on a rectangular grid, use the [`axes()` command](https://matplotlib.org/3.1.1/api/_as_gen/matplotlib.pyplot.axes.html)."
   ]
  },
  {
   "cell_type": "markdown",
   "metadata": {},
   "source": [
    "### 03. Scaling and Limits\n",
    "\n",
    "By default, `matplotlib` will attempt to determine limits that encompasses all the data provided.  This is the **autoscale** feature. \n",
    "\n",
    "To set the limit we can call `set_xlim([lower_bound, upper_bound])` and `set_ylim([lower_bound, upper_bound])` from the `Axes` object."
   ]
  },
  {
   "cell_type": "code",
   "execution_count": 6,
   "metadata": {},
   "outputs": [
    {
     "data": {
      "image/png": "[encoded data removed]",
      "text/plain": [
       "<Figure size 600x400 with 1 Axes>"
      ]
     },
     "metadata": {
      "needs_background": "light"
     },
     "output_type": "display_data"
    }
   ],
   "source": [
    "fig = plt.figure(figsize=(6,4), dpi=100)\n",
    "\n",
    "#Axes object with axis\n",
    "ax = fig.add_subplot(111)\n",
    "\n",
    "#List of Values\n",
    "x = list(range(1,11))\n",
    "y = [i**2 for i in x]\n",
    "\n",
    "# Set the limit to the x and y values\n",
    "ax.set_xlim([1,12])\n",
    "ax.set_ylim([0,120])\n",
    "\n",
    "#Basic Line Plot\n",
    "plt.plot(x, y)\n",
    "plt.show()\n"
   ]
  },
  {
   "cell_type": "markdown",
   "metadata": {},
   "source": [
    "### 04. Labels, Legends, and More Lines\n",
    "\n",
    "You can provide a label to your data series that will allow `matplotlib` to automatically build the legend for the plot. `x` and `y` axes may also be labeled using `plt.xlabel()` and `plt.ylabel()`. \n",
    "\n",
    "A title may also be provided to the subplot through the `plt.title()` function.\n"
   ]
  },
  {
   "cell_type": "code",
   "execution_count": 7,
   "metadata": {},
   "outputs": [
    {
     "data": {
      "image/png": "[encoded data removed]",
      "text/plain": [
       "<Figure size 600x400 with 1 Axes>"
      ]
     },
     "metadata": {
      "needs_background": "light"
     },
     "output_type": "display_data"
    }
   ],
   "source": [
    "fig = plt.figure(figsize=(6,4), dpi=100)\n",
    "\n",
    "#Axes object with axis\n",
    "ax = fig.add_subplot(111)\n",
    "\n",
    "#List of Values\n",
    "x = list(range(1,11))\n",
    "y = [i**2 for i in x]\n",
    "\n",
    "# Set the limit to the x and y values\n",
    "ax.set_xlim([1,12])\n",
    "ax.set_ylim([0,120])\n",
    "\n",
    "#Labels\n",
    "plt.ylabel('Y')\n",
    "plt.xlabel('X')\n",
    "plt.title('Parabolic Function')\n",
    "\n",
    "#Basic Line Plot WITH LEGEND\n",
    "plt.plot(x, y, label='Y=X^2')\n",
    "ax.legend()\n",
    "plt.show()"
   ]
  },
  {
   "cell_type": "markdown",
   "metadata": {},
   "source": [
    "* In addition, vertical and horizontal lines may be drawn through the `plt.axvline` and `plt.axhline` functions (may also be stated as attributes of the axes, e.g. '_ax.axhline_').\n",
    "* Such lines are quite useful, for example, when you want to mark certain events part of time series data!"
   ]
  },
  {
   "cell_type": "code",
   "execution_count": 8,
   "metadata": {},
   "outputs": [
    {
     "data": {
      "image/png": "[encoded data removed]",
      "text/plain": [
       "<Figure size 600x400 with 1 Axes>"
      ]
     },
     "metadata": {
      "needs_background": "light"
     },
     "output_type": "display_data"
    }
   ],
   "source": [
    "#ANOTHER EXAMPLE\n",
    "fig = plt.figure(figsize=(6,4), dpi=100)\n",
    "\n",
    "#Axes object with axis\n",
    "ax = fig.add_subplot(111)\n",
    "\n",
    "#List of Values\n",
    "x = list(range(1,50))\n",
    "y = [-i**2+50*i for i in x]\n",
    "\n",
    "#Labels\n",
    "plt.ylabel('altitude')\n",
    "plt.xlabel('time')\n",
    "plt.title('Line Plot')\n",
    "\n",
    "plt.axvline(x=8, linestyle='--', label='event1')\n",
    "ax.axhline(y=max(y), linestyle='--', label='max y')\n",
    "\n",
    "#Plot with Legend\n",
    "plt.plot(x, y, label='Projectile Motion', color='black')\n",
    "ax.legend()\n",
    "plt.show()\n"
   ]
  },
  {
   "cell_type": "markdown",
   "metadata": {
    "tags": []
   },
   "source": [
    "### 05. Customizing the plot design\n",
    "\n",
    "In case you do not like the default styles provided, `matplotlib` also allows you to pass a custom **style sheet** or customize it directly using the `rcParams` object. [Reference](https://matplotlib.org/3.3.1/tutorials/introductory/customizing.html)\n",
    "\n",
    "Below is a sample code snippet which changes the text color of plots.\n",
    "\n",
    "```\n",
    "textColor = '#3c3c3c'\n",
    "highlightColor = '#3b738f'\n",
    "plt.rcParams['text.color'] = textColor\n",
    "plt.rcParams['axes.labelcolor'] = highlightColor\n",
    "plt.rcParams['xtick.color'] = textColor\n",
    "plt.rcParams['ytick.color'] = textColor\n",
    "```\n",
    "\n",
    "This changes the color of the general text and the ticks to <span style=\"color: #3c3c3c; font-weight: bold;\">gray</span> and the labels of the axes to <span style=\"color: #3b738f; font-weight: bold;\">teal</span>."
   ]
  },
  {
   "cell_type": "code",
   "execution_count": 9,
   "metadata": {},
   "outputs": [
    {
     "data": {
      "image/png": "[encoded data removed]",
      "text/plain": [
       "<Figure size 600x400 with 1 Axes>"
      ]
     },
     "metadata": {
      "needs_background": "light"
     },
     "output_type": "display_data"
    }
   ],
   "source": [
    "textColor = 'blue'\n",
    "highlightColor = '#3b738f'\n",
    "plt.rcParams['text.color'] = textColor\n",
    "plt.rcParams['axes.labelcolor'] = highlightColor\n",
    "plt.rcParams['xtick.color'] = textColor\n",
    "plt.rcParams['ytick.color'] = textColor\n",
    "\n",
    "plt.rcParams['axes.titlesize'] = 20\n",
    "plt.rcParams['axes.labelsize'] = 16\n",
    "plt.rcParams['xtick.labelsize'] = 14\n",
    "plt.rcParams['ytick.labelsize'] = 14\n",
    "\n",
    "#Alternative Example\n",
    "fig = plt.figure(figsize=(6,4), dpi=100)\n",
    "\n",
    "#Axes object with axis\n",
    "ax = fig.add_subplot(111)\n",
    "\n",
    "#List of Values\n",
    "x = list(range(1,11))\n",
    "y = [(ma.e)**(i) for i in x]\n",
    "\n",
    "#Alternative Way of Labeling Axes\n",
    "ax.set_ylabel('altitude')\n",
    "ax.set_xlabel('time')\n",
    "plt.title('Line Plot')\n",
    "\n",
    "# Set the limit to the x and y values\n",
    "ax.set_xlim([0,7])\n",
    "ax.set_ylim([0,200])\n",
    "\n",
    "#Plot with Legend\n",
    "plt.plot(x, y, label='e^x')\n",
    "ax.legend()\n",
    "plt.show()"
   ]
  },
  {
   "cell_type": "markdown",
   "metadata": {},
   "source": [
    "The **lw** parameter in the `plt.plot` command modifies the thickness of the plot curves."
   ]
  },
  {
   "cell_type": "code",
   "execution_count": 9,
   "metadata": {},
   "outputs": [
    {
     "data": {
      "image/png": "[encoded data removed]",
      "text/plain": [
       "<Figure size 600x400 with 1 Axes>"
      ]
     },
     "metadata": {
      "needs_background": "light"
     },
     "output_type": "display_data"
    }
   ],
   "source": [
    "#Another Example: fictional GDP data\n",
    "textColor = 'black'\n",
    "highlightColor = '#3b738f'\n",
    "plt.rcParams['text.color'] = textColor\n",
    "plt.rcParams['axes.labelcolor'] = highlightColor\n",
    "plt.rcParams['xtick.color'] = textColor\n",
    "plt.rcParams['ytick.color'] = textColor\n",
    "fig = plt.figure(figsize=(6,4), dpi=100)\n",
    "\n",
    "#Axes object with axis\n",
    "ax = fig.add_subplot(111)\n",
    "\n",
    "#List of Values (Note: no need to take the Y function too literally here, \\\n",
    "#the list Y was made to fluctuate like GDP data)\n",
    "x = list(range(5,60))\n",
    "y = [0.000025*((i-10)*(i-20)*(i-50)*(i-80)) for i in x]\n",
    "\n",
    "#Labels\n",
    "plt.ylabel('y-o-y % change', fontsize=12)\n",
    "plt.xlabel('quarter', fontsize=12)\n",
    "plt.title('GDP Growth', fontsize=14)\n",
    "\n",
    "# Set the limit to the x and y values\n",
    "ax.set_xlim([8,55])\n",
    "ax.set_ylim([-8,8])\n",
    "\n",
    "plt.axvline(x=10, color='red', linestyle='--', label='recession X')\n",
    "ax.axvline(x=20, color='#0000aa', linestyle='--', label='recovery from X begins')\n",
    "ax.axvline(x=50, color='#aa0000', linestyle='--', label='yet another recession')\n",
    "ax.axhline(y=0, color='gray', linestyle='--')\n",
    "\n",
    "#Plot with Legend. lw parameter modifies thickness\n",
    "plt.plot(x, y, label='GDP growth', color='black',lw=4)\n",
    "ax.legend()\n",
    "plt.show()"
   ]
  },
  {
   "cell_type": "code",
   "execution_count": 10,
   "metadata": {},
   "outputs": [
    {
     "data": {
      "image/png": "[encoded data removed]",
      "text/plain": [
       "<Figure size 600x400 with 1 Axes>"
      ]
     },
     "metadata": {
      "needs_background": "light"
     },
     "output_type": "display_data"
    }
   ],
   "source": [
    "#Another Example: Scatter Plot\n",
    "np.random.seed(42)\n",
    "\n",
    "x = np.arange(10)\n",
    "y = np.random.randint(50, 100, size=10)\n",
    "\n",
    "plt.figure(figsize=(6, 4), dpi=100)\n",
    "ax = fig.add_subplot(111)\n",
    "\n",
    "plt.ylabel('value')\n",
    "plt.xlabel('time')\n",
    "ax = ax.set_ylim(0,1000)\n",
    "plt.title('Scatter Plot')\n",
    "\n",
    "plt.scatter(x, y)\n",
    "plt.show()"
   ]
  },
  {
   "cell_type": "markdown",
   "metadata": {
    "tags": []
   },
   "source": [
    "## Labor Force Exercise\n",
    "\n",
    "Now, let's try working on visualization with a dataset."
   ]
  },
  {
   "cell_type": "code",
   "execution_count": 11,
   "metadata": {},
   "outputs": [
    {
     "name": "stdout",
     "output_type": "stream",
     "text": [
      "New working directory is:  /Users/dino/Desktop/2022-Intersession/ECON197/datasets\n"
     ]
    }
   ],
   "source": [
    "#SET WORKING DIRECTORY\n",
    "absolute_path = '/Users/dino/Desktop/2022-Intersession/ECON197/datasets/'\n",
    "\n",
    "os.chdir(absolute_path)\n",
    "\n",
    "print('New working directory is: ', os.getcwd())"
   ]
  },
  {
   "cell_type": "code",
   "execution_count": 12,
   "metadata": {},
   "outputs": [
    {
     "data": {
      "text/html": [
       "<div>\n",
       "<style scoped>\n",
       "    .dataframe tbody tr th:only-of-type {\n",
       "        vertical-align: middle;\n",
       "    }\n",
       "\n",
       "    .dataframe tbody tr th {\n",
       "        vertical-align: top;\n",
       "    }\n",
       "\n",
       "    .dataframe thead th {\n",
       "        text-align: right;\n",
       "    }\n",
       "</style>\n",
       "<table border=\"1\" class=\"dataframe\">\n",
       "  <thead>\n",
       "    <tr style=\"text-align: right;\">\n",
       "      <th></th>\n",
       "      <th>pufreg</th>\n",
       "      <th>pufprv</th>\n",
       "      <th>pufprrcd</th>\n",
       "      <th>pufhhnum</th>\n",
       "      <th>pufurb2k10</th>\n",
       "      <th>pufpwgtprv</th>\n",
       "      <th>pufsvymo</th>\n",
       "      <th>pufsvyyr</th>\n",
       "      <th>pufpsu</th>\n",
       "      <th>pufrpl</th>\n",
       "      <th>...</th>\n",
       "      <th>pufc33_weeks</th>\n",
       "      <th>pufc34_wynot</th>\n",
       "      <th>pufc35_ltlookw</th>\n",
       "      <th>pufc36_avail</th>\n",
       "      <th>pufc37_willing</th>\n",
       "      <th>pufc38_prevjob</th>\n",
       "      <th>pufc40_pocc</th>\n",
       "      <th>pufc41_wqtr</th>\n",
       "      <th>pufc43_qkb</th>\n",
       "      <th>pufnewempstat</th>\n",
       "    </tr>\n",
       "  </thead>\n",
       "  <tbody>\n",
       "    <tr>\n",
       "      <th>0</th>\n",
       "      <td>14</td>\n",
       "      <td>1</td>\n",
       "      <td>100</td>\n",
       "      <td>1</td>\n",
       "      <td>2</td>\n",
       "      <td>136.816803</td>\n",
       "      <td>4</td>\n",
       "      <td>2017</td>\n",
       "      <td>241</td>\n",
       "      <td>18</td>\n",
       "      <td>...</td>\n",
       "      <td>NaN</td>\n",
       "      <td>NaN</td>\n",
       "      <td>NaN</td>\n",
       "      <td>NaN</td>\n",
       "      <td>NaN</td>\n",
       "      <td>NaN</td>\n",
       "      <td>NaN</td>\n",
       "      <td>1.0</td>\n",
       "      <td>25.0</td>\n",
       "      <td>1.0</td>\n",
       "    </tr>\n",
       "    <tr>\n",
       "      <th>1</th>\n",
       "      <td>14</td>\n",
       "      <td>1</td>\n",
       "      <td>100</td>\n",
       "      <td>1</td>\n",
       "      <td>2</td>\n",
       "      <td>134.119705</td>\n",
       "      <td>4</td>\n",
       "      <td>2017</td>\n",
       "      <td>241</td>\n",
       "      <td>18</td>\n",
       "      <td>...</td>\n",
       "      <td>NaN</td>\n",
       "      <td>7.0</td>\n",
       "      <td>NaN</td>\n",
       "      <td>NaN</td>\n",
       "      <td>NaN</td>\n",
       "      <td>1.0</td>\n",
       "      <td>92.0</td>\n",
       "      <td>1.0</td>\n",
       "      <td>1.0</td>\n",
       "      <td>3.0</td>\n",
       "    </tr>\n",
       "    <tr>\n",
       "      <th>2</th>\n",
       "      <td>14</td>\n",
       "      <td>1</td>\n",
       "      <td>100</td>\n",
       "      <td>1</td>\n",
       "      <td>2</td>\n",
       "      <td>135.200302</td>\n",
       "      <td>4</td>\n",
       "      <td>2017</td>\n",
       "      <td>241</td>\n",
       "      <td>18</td>\n",
       "      <td>...</td>\n",
       "      <td>NaN</td>\n",
       "      <td>NaN</td>\n",
       "      <td>NaN</td>\n",
       "      <td>NaN</td>\n",
       "      <td>NaN</td>\n",
       "      <td>NaN</td>\n",
       "      <td>NaN</td>\n",
       "      <td>1.0</td>\n",
       "      <td>1.0</td>\n",
       "      <td>1.0</td>\n",
       "    </tr>\n",
       "    <tr>\n",
       "      <th>3</th>\n",
       "      <td>14</td>\n",
       "      <td>1</td>\n",
       "      <td>100</td>\n",
       "      <td>1</td>\n",
       "      <td>2</td>\n",
       "      <td>135.200302</td>\n",
       "      <td>4</td>\n",
       "      <td>2017</td>\n",
       "      <td>241</td>\n",
       "      <td>18</td>\n",
       "      <td>...</td>\n",
       "      <td>NaN</td>\n",
       "      <td>NaN</td>\n",
       "      <td>NaN</td>\n",
       "      <td>NaN</td>\n",
       "      <td>NaN</td>\n",
       "      <td>NaN</td>\n",
       "      <td>NaN</td>\n",
       "      <td>2.0</td>\n",
       "      <td>NaN</td>\n",
       "      <td>1.0</td>\n",
       "    </tr>\n",
       "    <tr>\n",
       "      <th>4</th>\n",
       "      <td>14</td>\n",
       "      <td>1</td>\n",
       "      <td>100</td>\n",
       "      <td>1</td>\n",
       "      <td>2</td>\n",
       "      <td>106.370796</td>\n",
       "      <td>4</td>\n",
       "      <td>2017</td>\n",
       "      <td>241</td>\n",
       "      <td>18</td>\n",
       "      <td>...</td>\n",
       "      <td>NaN</td>\n",
       "      <td>8.0</td>\n",
       "      <td>NaN</td>\n",
       "      <td>NaN</td>\n",
       "      <td>NaN</td>\n",
       "      <td>2.0</td>\n",
       "      <td>NaN</td>\n",
       "      <td>NaN</td>\n",
       "      <td>NaN</td>\n",
       "      <td>3.0</td>\n",
       "    </tr>\n",
       "    <tr>\n",
       "      <th>...</th>\n",
       "      <td>...</td>\n",
       "      <td>...</td>\n",
       "      <td>...</td>\n",
       "      <td>...</td>\n",
       "      <td>...</td>\n",
       "      <td>...</td>\n",
       "      <td>...</td>\n",
       "      <td>...</td>\n",
       "      <td>...</td>\n",
       "      <td>...</td>\n",
       "      <td>...</td>\n",
       "      <td>...</td>\n",
       "      <td>...</td>\n",
       "      <td>...</td>\n",
       "      <td>...</td>\n",
       "      <td>...</td>\n",
       "      <td>...</td>\n",
       "      <td>...</td>\n",
       "      <td>...</td>\n",
       "      <td>...</td>\n",
       "      <td>...</td>\n",
       "    </tr>\n",
       "    <tr>\n",
       "      <th>179520</th>\n",
       "      <td>12</td>\n",
       "      <td>98</td>\n",
       "      <td>9804</td>\n",
       "      <td>40792</td>\n",
       "      <td>1</td>\n",
       "      <td>175.981506</td>\n",
       "      <td>4</td>\n",
       "      <td>2017</td>\n",
       "      <td>41</td>\n",
       "      <td>20</td>\n",
       "      <td>...</td>\n",
       "      <td>NaN</td>\n",
       "      <td>8.0</td>\n",
       "      <td>NaN</td>\n",
       "      <td>NaN</td>\n",
       "      <td>NaN</td>\n",
       "      <td>2.0</td>\n",
       "      <td>NaN</td>\n",
       "      <td>NaN</td>\n",
       "      <td>NaN</td>\n",
       "      <td>3.0</td>\n",
       "    </tr>\n",
       "    <tr>\n",
       "      <th>179521</th>\n",
       "      <td>12</td>\n",
       "      <td>98</td>\n",
       "      <td>9804</td>\n",
       "      <td>40793</td>\n",
       "      <td>1</td>\n",
       "      <td>183.608093</td>\n",
       "      <td>4</td>\n",
       "      <td>2017</td>\n",
       "      <td>41</td>\n",
       "      <td>20</td>\n",
       "      <td>...</td>\n",
       "      <td>NaN</td>\n",
       "      <td>NaN</td>\n",
       "      <td>NaN</td>\n",
       "      <td>NaN</td>\n",
       "      <td>NaN</td>\n",
       "      <td>NaN</td>\n",
       "      <td>NaN</td>\n",
       "      <td>1.0</td>\n",
       "      <td>47.0</td>\n",
       "      <td>1.0</td>\n",
       "    </tr>\n",
       "    <tr>\n",
       "      <th>179522</th>\n",
       "      <td>12</td>\n",
       "      <td>98</td>\n",
       "      <td>9804</td>\n",
       "      <td>40793</td>\n",
       "      <td>1</td>\n",
       "      <td>287.060303</td>\n",
       "      <td>4</td>\n",
       "      <td>2017</td>\n",
       "      <td>41</td>\n",
       "      <td>20</td>\n",
       "      <td>...</td>\n",
       "      <td>NaN</td>\n",
       "      <td>NaN</td>\n",
       "      <td>NaN</td>\n",
       "      <td>NaN</td>\n",
       "      <td>NaN</td>\n",
       "      <td>NaN</td>\n",
       "      <td>NaN</td>\n",
       "      <td>2.0</td>\n",
       "      <td>NaN</td>\n",
       "      <td>1.0</td>\n",
       "    </tr>\n",
       "    <tr>\n",
       "      <th>179523</th>\n",
       "      <td>12</td>\n",
       "      <td>98</td>\n",
       "      <td>9804</td>\n",
       "      <td>40793</td>\n",
       "      <td>1</td>\n",
       "      <td>287.060303</td>\n",
       "      <td>4</td>\n",
       "      <td>2017</td>\n",
       "      <td>41</td>\n",
       "      <td>20</td>\n",
       "      <td>...</td>\n",
       "      <td>NaN</td>\n",
       "      <td>NaN</td>\n",
       "      <td>NaN</td>\n",
       "      <td>NaN</td>\n",
       "      <td>NaN</td>\n",
       "      <td>NaN</td>\n",
       "      <td>NaN</td>\n",
       "      <td>2.0</td>\n",
       "      <td>NaN</td>\n",
       "      <td>1.0</td>\n",
       "    </tr>\n",
       "    <tr>\n",
       "      <th>179524</th>\n",
       "      <td>12</td>\n",
       "      <td>98</td>\n",
       "      <td>9804</td>\n",
       "      <td>40793</td>\n",
       "      <td>1</td>\n",
       "      <td>227.555405</td>\n",
       "      <td>4</td>\n",
       "      <td>2017</td>\n",
       "      <td>41</td>\n",
       "      <td>20</td>\n",
       "      <td>...</td>\n",
       "      <td>NaN</td>\n",
       "      <td>8.0</td>\n",
       "      <td>NaN</td>\n",
       "      <td>NaN</td>\n",
       "      <td>NaN</td>\n",
       "      <td>2.0</td>\n",
       "      <td>NaN</td>\n",
       "      <td>NaN</td>\n",
       "      <td>NaN</td>\n",
       "      <td>3.0</td>\n",
       "    </tr>\n",
       "  </tbody>\n",
       "</table>\n",
       "<p>179525 rows × 50 columns</p>\n",
       "</div>"
      ],
      "text/plain": [
       "        pufreg  pufprv  pufprrcd  pufhhnum  pufurb2k10  pufpwgtprv  pufsvymo  \\\n",
       "0           14       1       100         1           2  136.816803         4   \n",
       "1           14       1       100         1           2  134.119705         4   \n",
       "2           14       1       100         1           2  135.200302         4   \n",
       "3           14       1       100         1           2  135.200302         4   \n",
       "4           14       1       100         1           2  106.370796         4   \n",
       "...        ...     ...       ...       ...         ...         ...       ...   \n",
       "179520      12      98      9804     40792           1  175.981506         4   \n",
       "179521      12      98      9804     40793           1  183.608093         4   \n",
       "179522      12      98      9804     40793           1  287.060303         4   \n",
       "179523      12      98      9804     40793           1  287.060303         4   \n",
       "179524      12      98      9804     40793           1  227.555405         4   \n",
       "\n",
       "        pufsvyyr  pufpsu  pufrpl  ...  pufc33_weeks  pufc34_wynot  \\\n",
       "0           2017     241      18  ...           NaN           NaN   \n",
       "1           2017     241      18  ...           NaN           7.0   \n",
       "2           2017     241      18  ...           NaN           NaN   \n",
       "3           2017     241      18  ...           NaN           NaN   \n",
       "4           2017     241      18  ...           NaN           8.0   \n",
       "...          ...     ...     ...  ...           ...           ...   \n",
       "179520      2017      41      20  ...           NaN           8.0   \n",
       "179521      2017      41      20  ...           NaN           NaN   \n",
       "179522      2017      41      20  ...           NaN           NaN   \n",
       "179523      2017      41      20  ...           NaN           NaN   \n",
       "179524      2017      41      20  ...           NaN           8.0   \n",
       "\n",
       "        pufc35_ltlookw  pufc36_avail  pufc37_willing  pufc38_prevjob  \\\n",
       "0                  NaN           NaN             NaN             NaN   \n",
       "1                  NaN           NaN             NaN             1.0   \n",
       "2                  NaN           NaN             NaN             NaN   \n",
       "3                  NaN           NaN             NaN             NaN   \n",
       "4                  NaN           NaN             NaN             2.0   \n",
       "...                ...           ...             ...             ...   \n",
       "179520             NaN           NaN             NaN             2.0   \n",
       "179521             NaN           NaN             NaN             NaN   \n",
       "179522             NaN           NaN             NaN             NaN   \n",
       "179523             NaN           NaN             NaN             NaN   \n",
       "179524             NaN           NaN             NaN             2.0   \n",
       "\n",
       "        pufc40_pocc  pufc41_wqtr  pufc43_qkb  pufnewempstat  \n",
       "0               NaN          1.0        25.0            1.0  \n",
       "1              92.0          1.0         1.0            3.0  \n",
       "2               NaN          1.0         1.0            1.0  \n",
       "3               NaN          2.0         NaN            1.0  \n",
       "4               NaN          NaN         NaN            3.0  \n",
       "...             ...          ...         ...            ...  \n",
       "179520          NaN          NaN         NaN            3.0  \n",
       "179521          NaN          1.0        47.0            1.0  \n",
       "179522          NaN          2.0         NaN            1.0  \n",
       "179523          NaN          2.0         NaN            1.0  \n",
       "179524          NaN          NaN         NaN            3.0  \n",
       "\n",
       "[179525 rows x 50 columns]"
      ]
     },
     "execution_count": 12,
     "metadata": {},
     "output_type": "execute_result"
    }
   ],
   "source": [
    "lfs17 = pd.read_stata('lfsapr2017_data.dta')\n",
    "lfs17"
   ]
  },
  {
   "cell_type": "markdown",
   "metadata": {},
   "source": [
    "### Data Dictionary\n",
    "\n",
    "We're going to reformat the dataset in terms of the following:\n",
    "\n",
    "**Labor Force**\n",
    "* lf=1 if pufnewempstat>=1 & pufnewempstat<=2 (part of labor force)\n",
    "* lf=0 if pufnewempstat==3 (not part of labor force)\n",
    "\n",
    "**Gender and Age**\n",
    "* male=1 and female=0 if pufc04_sex==1\n",
    "* male=0 and female=1 if pufc04_sex==2\n",
    "* age, agesq\n",
    "\n",
    "**Educational Attainment Variables**\n",
    "* hs_under=1 if pufc07_grade<=240 | (pufc07_grade>=410 & pufc07_grade<=520)\n",
    "* hs_grad=1 if pufc07_grade==250 \n",
    "* voc_under=1 if pufc07_grade>=310 & pufc07_grade<=320\n",
    "* voc_grad=1 if pufc07_grade>=601 & pufc07_grade<=689\n",
    "* coll_under=1 if pufc07_grade>=710 & pufc07_grade<=760\n",
    "* coll_grad=1 if pufc07_grade>=801 & pufc07_grade<=940\n",
    "* else: variable=0 if listed condition does not hold\n",
    "\n",
    "\n"
   ]
  },
  {
   "cell_type": "code",
   "execution_count": 13,
   "metadata": {},
   "outputs": [
    {
     "data": {
      "text/html": [
       "<div>\n",
       "<style scoped>\n",
       "    .dataframe tbody tr th:only-of-type {\n",
       "        vertical-align: middle;\n",
       "    }\n",
       "\n",
       "    .dataframe tbody tr th {\n",
       "        vertical-align: top;\n",
       "    }\n",
       "\n",
       "    .dataframe thead th {\n",
       "        text-align: right;\n",
       "    }\n",
       "</style>\n",
       "<table border=\"1\" class=\"dataframe\">\n",
       "  <thead>\n",
       "    <tr style=\"text-align: right;\">\n",
       "      <th></th>\n",
       "      <th>lf_partof</th>\n",
       "      <th>male</th>\n",
       "      <th>female</th>\n",
       "      <th>age</th>\n",
       "      <th>hs_under</th>\n",
       "      <th>hs_grad</th>\n",
       "      <th>voc_under</th>\n",
       "      <th>voc_grad</th>\n",
       "      <th>coll_under</th>\n",
       "      <th>coll_grad</th>\n",
       "    </tr>\n",
       "  </thead>\n",
       "  <tbody>\n",
       "    <tr>\n",
       "      <th>0</th>\n",
       "      <td>1</td>\n",
       "      <td>1</td>\n",
       "      <td>0</td>\n",
       "      <td>44</td>\n",
       "      <td>0</td>\n",
       "      <td>1</td>\n",
       "      <td>0</td>\n",
       "      <td>0</td>\n",
       "      <td>0</td>\n",
       "      <td>0</td>\n",
       "    </tr>\n",
       "    <tr>\n",
       "      <th>1</th>\n",
       "      <td>0</td>\n",
       "      <td>0</td>\n",
       "      <td>1</td>\n",
       "      <td>41</td>\n",
       "      <td>0</td>\n",
       "      <td>0</td>\n",
       "      <td>0</td>\n",
       "      <td>0</td>\n",
       "      <td>1</td>\n",
       "      <td>0</td>\n",
       "    </tr>\n",
       "    <tr>\n",
       "      <th>2</th>\n",
       "      <td>1</td>\n",
       "      <td>1</td>\n",
       "      <td>0</td>\n",
       "      <td>21</td>\n",
       "      <td>0</td>\n",
       "      <td>1</td>\n",
       "      <td>0</td>\n",
       "      <td>0</td>\n",
       "      <td>0</td>\n",
       "      <td>0</td>\n",
       "    </tr>\n",
       "    <tr>\n",
       "      <th>3</th>\n",
       "      <td>1</td>\n",
       "      <td>1</td>\n",
       "      <td>0</td>\n",
       "      <td>18</td>\n",
       "      <td>1</td>\n",
       "      <td>0</td>\n",
       "      <td>0</td>\n",
       "      <td>0</td>\n",
       "      <td>0</td>\n",
       "      <td>0</td>\n",
       "    </tr>\n",
       "    <tr>\n",
       "      <th>4</th>\n",
       "      <td>0</td>\n",
       "      <td>0</td>\n",
       "      <td>1</td>\n",
       "      <td>17</td>\n",
       "      <td>1</td>\n",
       "      <td>0</td>\n",
       "      <td>0</td>\n",
       "      <td>0</td>\n",
       "      <td>0</td>\n",
       "      <td>0</td>\n",
       "    </tr>\n",
       "    <tr>\n",
       "      <th>...</th>\n",
       "      <td>...</td>\n",
       "      <td>...</td>\n",
       "      <td>...</td>\n",
       "      <td>...</td>\n",
       "      <td>...</td>\n",
       "      <td>...</td>\n",
       "      <td>...</td>\n",
       "      <td>...</td>\n",
       "      <td>...</td>\n",
       "      <td>...</td>\n",
       "    </tr>\n",
       "    <tr>\n",
       "      <th>179520</th>\n",
       "      <td>0</td>\n",
       "      <td>1</td>\n",
       "      <td>0</td>\n",
       "      <td>16</td>\n",
       "      <td>1</td>\n",
       "      <td>0</td>\n",
       "      <td>0</td>\n",
       "      <td>0</td>\n",
       "      <td>0</td>\n",
       "      <td>0</td>\n",
       "    </tr>\n",
       "    <tr>\n",
       "      <th>179521</th>\n",
       "      <td>1</td>\n",
       "      <td>0</td>\n",
       "      <td>1</td>\n",
       "      <td>47</td>\n",
       "      <td>0</td>\n",
       "      <td>0</td>\n",
       "      <td>0</td>\n",
       "      <td>0</td>\n",
       "      <td>1</td>\n",
       "      <td>0</td>\n",
       "    </tr>\n",
       "    <tr>\n",
       "      <th>179522</th>\n",
       "      <td>1</td>\n",
       "      <td>1</td>\n",
       "      <td>0</td>\n",
       "      <td>28</td>\n",
       "      <td>0</td>\n",
       "      <td>1</td>\n",
       "      <td>0</td>\n",
       "      <td>0</td>\n",
       "      <td>0</td>\n",
       "      <td>0</td>\n",
       "    </tr>\n",
       "    <tr>\n",
       "      <th>179523</th>\n",
       "      <td>1</td>\n",
       "      <td>1</td>\n",
       "      <td>0</td>\n",
       "      <td>27</td>\n",
       "      <td>0</td>\n",
       "      <td>1</td>\n",
       "      <td>0</td>\n",
       "      <td>0</td>\n",
       "      <td>0</td>\n",
       "      <td>0</td>\n",
       "    </tr>\n",
       "    <tr>\n",
       "      <th>179524</th>\n",
       "      <td>0</td>\n",
       "      <td>0</td>\n",
       "      <td>1</td>\n",
       "      <td>16</td>\n",
       "      <td>1</td>\n",
       "      <td>0</td>\n",
       "      <td>0</td>\n",
       "      <td>0</td>\n",
       "      <td>0</td>\n",
       "      <td>0</td>\n",
       "    </tr>\n",
       "  </tbody>\n",
       "</table>\n",
       "<p>179525 rows × 10 columns</p>\n",
       "</div>"
      ],
      "text/plain": [
       "       lf_partof male female  age  hs_under  hs_grad  voc_under  voc_grad  \\\n",
       "0              1    1      0   44         0        1          0         0   \n",
       "1              0    0      1   41         0        0          0         0   \n",
       "2              1    1      0   21         0        1          0         0   \n",
       "3              1    1      0   18         1        0          0         0   \n",
       "4              0    0      1   17         1        0          0         0   \n",
       "...          ...  ...    ...  ...       ...      ...        ...       ...   \n",
       "179520         0    1      0   16         1        0          0         0   \n",
       "179521         1    0      1   47         0        0          0         0   \n",
       "179522         1    1      0   28         0        1          0         0   \n",
       "179523         1    1      0   27         0        1          0         0   \n",
       "179524         0    0      1   16         1        0          0         0   \n",
       "\n",
       "        coll_under  coll_grad  \n",
       "0                0          0  \n",
       "1                1          0  \n",
       "2                0          0  \n",
       "3                0          0  \n",
       "4                0          0  \n",
       "...            ...        ...  \n",
       "179520           0          0  \n",
       "179521           1          0  \n",
       "179522           0          0  \n",
       "179523           0          0  \n",
       "179524           0          0  \n",
       "\n",
       "[179525 rows x 10 columns]"
      ]
     },
     "execution_count": 13,
     "metadata": {},
     "output_type": "execute_result"
    }
   ],
   "source": [
    "lfs17['lf_partof'] = [None for i in range(len(lfs17.index))]\n",
    "lfs17.loc[(lfs17.pufnewempstat >= 1) & (lfs17.pufnewempstat<=2), 'lf_partof'] = 1\n",
    "lfs17.loc[(lfs17.pufnewempstat==3), 'lf_partof'] = 0\n",
    "\n",
    "lfs17['male'] = [None for i in range(len(lfs17.index))]\n",
    "lfs17.loc[(lfs17.pufc04_sex==1), 'male'] = 1\n",
    "lfs17.loc[(lfs17.pufc04_sex==2), 'male'] = 0\n",
    "\n",
    "lfs17['female'] = [None for i in range(len(lfs17.index))]\n",
    "lfs17.loc[(lfs17.pufc04_sex==2), 'female'] = 1\n",
    "lfs17.loc[(lfs17.pufc04_sex==1), 'female'] = 0\n",
    "\n",
    "lfs17['age'] = lfs17.pufc05_age\n",
    "lfs17['agesq'] = [(lfs17.age[i])**2 for i in range(len(lfs17.age))]\n",
    "\n",
    "lfs17['hs_under'] = [0 for i in range(len(lfs17.index))]\n",
    "lfs17.loc[((lfs17.pufc07_grade<=240) | ((lfs17.pufc07_grade>=410) & (lfs17.pufc07_grade<=520))), 'hs_under'] = 1\n",
    "\n",
    "lfs17['hs_grad'] = [0 for i in range(len(lfs17.index))]\n",
    "lfs17.loc[(lfs17.pufc07_grade==250), 'hs_grad'] = 1\n",
    "\n",
    "lfs17['voc_under'] = [0 for i in range(len(lfs17.index))]\n",
    "lfs17.loc[((lfs17.pufc07_grade>=310) & (lfs17.pufc07_grade<=320)), 'voc_under'] = 1\n",
    "\n",
    "lfs17['voc_grad'] = [0 for i in range(len(lfs17.index))]\n",
    "lfs17.loc[((lfs17.pufc07_grade>=601) & (lfs17.pufc07_grade<=689)), 'voc_grad'] = 1\n",
    "\n",
    "lfs17['coll_under'] = [0 for i in range(len(lfs17.index))]\n",
    "lfs17.loc[((lfs17.pufc07_grade>=710) & (lfs17.pufc07_grade<=760)), 'coll_under'] = 1\n",
    "\n",
    "lfs17['coll_grad'] = [0 for i in range(len(lfs17.index))]\n",
    "lfs17.loc[((lfs17.pufc07_grade>=801) & (lfs17.pufc07_grade<=940)), 'coll_grad'] = 1\n",
    "\n",
    "lfs17 = lfs17.loc[ :,['lf_partof','male','female',\\\n",
    "                               'age','hs_under','hs_grad','voc_under','voc_grad',\\\n",
    "                              'coll_under','coll_grad']]\n",
    "\n",
    "lfs17\n"
   ]
  },
  {
   "cell_type": "code",
   "execution_count": 14,
   "metadata": {},
   "outputs": [],
   "source": [
    "\n",
    "lfs17 = lfs17.to_csv('2017-LFS-edited.csv')"
   ]
  },
  {
   "cell_type": "markdown",
   "metadata": {},
   "source": [
    "### Let's begin exploring the data...\n",
    "\n",
    "* How many rows and columns do we have? \n",
    "* What is the data type of each column? \n",
    "* What is the most common value? Mean? Standard deviation?\n",
    "* Are there any missing values? If yes, how do you want to handle them?"
   ]
  },
  {
   "cell_type": "code",
   "execution_count": 15,
   "metadata": {},
   "outputs": [
    {
     "data": {
      "text/plain": [
       "(179525, 10)"
      ]
     },
     "execution_count": 15,
     "metadata": {},
     "output_type": "execute_result"
    }
   ],
   "source": [
    "# how many rows & columns?\n",
    "lfs17.shape"
   ]
  },
  {
   "cell_type": "code",
   "execution_count": 16,
   "metadata": {},
   "outputs": [
    {
     "name": "stdout",
     "output_type": "stream",
     "text": [
      "<class 'pandas.core.frame.DataFrame'>\n",
      "Int64Index: 179525 entries, 0 to 179524\n",
      "Data columns (total 10 columns):\n",
      " #   Column      Non-Null Count   Dtype \n",
      "---  ------      --------------   ----- \n",
      " 0   lf_partof   119195 non-null  object\n",
      " 1   male        179525 non-null  object\n",
      " 2   female      179525 non-null  object\n",
      " 3   age         179525 non-null  int8  \n",
      " 4   hs_under    179525 non-null  int64 \n",
      " 5   hs_grad     179525 non-null  int64 \n",
      " 6   voc_under   179525 non-null  int64 \n",
      " 7   voc_grad    179525 non-null  int64 \n",
      " 8   coll_under  179525 non-null  int64 \n",
      " 9   coll_grad   179525 non-null  int64 \n",
      "dtypes: int64(6), int8(1), object(3)\n",
      "memory usage: 17.9+ MB\n"
     ]
    }
   ],
   "source": [
    "# to get the data types of each column, you can also use df.info()\n",
    "# this also provides you also the non-null counts per column\n",
    "lfs17.info()"
   ]
  },
  {
   "cell_type": "code",
   "execution_count": 17,
   "metadata": {},
   "outputs": [
    {
     "data": {
      "text/plain": [
       "lf_partof     object\n",
       "male          object\n",
       "female        object\n",
       "age             int8\n",
       "hs_under       int64\n",
       "hs_grad        int64\n",
       "voc_under      int64\n",
       "voc_grad       int64\n",
       "coll_under     int64\n",
       "coll_grad      int64\n",
       "dtype: object"
      ]
     },
     "execution_count": 17,
     "metadata": {},
     "output_type": "execute_result"
    }
   ],
   "source": [
    "# or just the data types\n",
    "lfs17.dtypes"
   ]
  },
  {
   "cell_type": "code",
   "execution_count": 18,
   "metadata": {},
   "outputs": [
    {
     "data": {
      "text/html": [
       "<div>\n",
       "<style scoped>\n",
       "    .dataframe tbody tr th:only-of-type {\n",
       "        vertical-align: middle;\n",
       "    }\n",
       "\n",
       "    .dataframe tbody tr th {\n",
       "        vertical-align: top;\n",
       "    }\n",
       "\n",
       "    .dataframe thead th {\n",
       "        text-align: right;\n",
       "    }\n",
       "</style>\n",
       "<table border=\"1\" class=\"dataframe\">\n",
       "  <thead>\n",
       "    <tr style=\"text-align: right;\">\n",
       "      <th></th>\n",
       "      <th>age</th>\n",
       "      <th>hs_under</th>\n",
       "      <th>hs_grad</th>\n",
       "      <th>voc_under</th>\n",
       "      <th>voc_grad</th>\n",
       "      <th>coll_under</th>\n",
       "      <th>coll_grad</th>\n",
       "    </tr>\n",
       "  </thead>\n",
       "  <tbody>\n",
       "    <tr>\n",
       "      <th>count</th>\n",
       "      <td>179525.000000</td>\n",
       "      <td>179525.000000</td>\n",
       "      <td>179525.000000</td>\n",
       "      <td>179525.000000</td>\n",
       "      <td>179525.000000</td>\n",
       "      <td>179525.000000</td>\n",
       "      <td>179525.000000</td>\n",
       "    </tr>\n",
       "    <tr>\n",
       "      <th>mean</th>\n",
       "      <td>28.354736</td>\n",
       "      <td>0.536271</td>\n",
       "      <td>0.160980</td>\n",
       "      <td>0.002891</td>\n",
       "      <td>0.025484</td>\n",
       "      <td>0.091742</td>\n",
       "      <td>0.087921</td>\n",
       "    </tr>\n",
       "    <tr>\n",
       "      <th>std</th>\n",
       "      <td>20.292405</td>\n",
       "      <td>0.498684</td>\n",
       "      <td>0.367514</td>\n",
       "      <td>0.053690</td>\n",
       "      <td>0.157590</td>\n",
       "      <td>0.288662</td>\n",
       "      <td>0.283181</td>\n",
       "    </tr>\n",
       "    <tr>\n",
       "      <th>min</th>\n",
       "      <td>0.000000</td>\n",
       "      <td>0.000000</td>\n",
       "      <td>0.000000</td>\n",
       "      <td>0.000000</td>\n",
       "      <td>0.000000</td>\n",
       "      <td>0.000000</td>\n",
       "      <td>0.000000</td>\n",
       "    </tr>\n",
       "    <tr>\n",
       "      <th>25%</th>\n",
       "      <td>11.000000</td>\n",
       "      <td>0.000000</td>\n",
       "      <td>0.000000</td>\n",
       "      <td>0.000000</td>\n",
       "      <td>0.000000</td>\n",
       "      <td>0.000000</td>\n",
       "      <td>0.000000</td>\n",
       "    </tr>\n",
       "    <tr>\n",
       "      <th>50%</th>\n",
       "      <td>24.000000</td>\n",
       "      <td>1.000000</td>\n",
       "      <td>0.000000</td>\n",
       "      <td>0.000000</td>\n",
       "      <td>0.000000</td>\n",
       "      <td>0.000000</td>\n",
       "      <td>0.000000</td>\n",
       "    </tr>\n",
       "    <tr>\n",
       "      <th>75%</th>\n",
       "      <td>43.000000</td>\n",
       "      <td>1.000000</td>\n",
       "      <td>0.000000</td>\n",
       "      <td>0.000000</td>\n",
       "      <td>0.000000</td>\n",
       "      <td>0.000000</td>\n",
       "      <td>0.000000</td>\n",
       "    </tr>\n",
       "    <tr>\n",
       "      <th>max</th>\n",
       "      <td>99.000000</td>\n",
       "      <td>1.000000</td>\n",
       "      <td>1.000000</td>\n",
       "      <td>1.000000</td>\n",
       "      <td>1.000000</td>\n",
       "      <td>1.000000</td>\n",
       "      <td>1.000000</td>\n",
       "    </tr>\n",
       "  </tbody>\n",
       "</table>\n",
       "</div>"
      ],
      "text/plain": [
       "                 age       hs_under        hs_grad      voc_under  \\\n",
       "count  179525.000000  179525.000000  179525.000000  179525.000000   \n",
       "mean       28.354736       0.536271       0.160980       0.002891   \n",
       "std        20.292405       0.498684       0.367514       0.053690   \n",
       "min         0.000000       0.000000       0.000000       0.000000   \n",
       "25%        11.000000       0.000000       0.000000       0.000000   \n",
       "50%        24.000000       1.000000       0.000000       0.000000   \n",
       "75%        43.000000       1.000000       0.000000       0.000000   \n",
       "max        99.000000       1.000000       1.000000       1.000000   \n",
       "\n",
       "            voc_grad     coll_under      coll_grad  \n",
       "count  179525.000000  179525.000000  179525.000000  \n",
       "mean        0.025484       0.091742       0.087921  \n",
       "std         0.157590       0.288662       0.283181  \n",
       "min         0.000000       0.000000       0.000000  \n",
       "25%         0.000000       0.000000       0.000000  \n",
       "50%         0.000000       0.000000       0.000000  \n",
       "75%         0.000000       0.000000       0.000000  \n",
       "max         1.000000       1.000000       1.000000  "
      ]
     },
     "execution_count": 18,
     "metadata": {},
     "output_type": "execute_result"
    }
   ],
   "source": [
    "lfs17.describe()"
   ]
  },
  {
   "cell_type": "markdown",
   "metadata": {},
   "source": [
    "### Visualizations\n"
   ]
  },
  {
   "cell_type": "markdown",
   "metadata": {},
   "source": [
    "#### How many people are part of the labor force? How many are not?"
   ]
  },
  {
   "cell_type": "code",
   "execution_count": 19,
   "metadata": {},
   "outputs": [
    {
     "data": {
      "text/plain": [
       "1    72725\n",
       "0    46470\n",
       "Name: lf_partof, dtype: int64"
      ]
     },
     "execution_count": 19,
     "metadata": {},
     "output_type": "execute_result"
    }
   ],
   "source": [
    "lfs17['lf_partof'].value_counts()"
   ]
  },
  {
   "cell_type": "code",
   "execution_count": 20,
   "metadata": {},
   "outputs": [
    {
     "data": {
      "image/png": "[encoded data removed]",
      "text/plain": [
       "<Figure size 432x288 with 1 Axes>"
      ]
     },
     "metadata": {
      "needs_background": "light"
     },
     "output_type": "display_data"
    }
   ],
   "source": [
    "ax = lfs17['lf_partof'].value_counts().plot(kind='bar')"
   ]
  },
  {
   "cell_type": "markdown",
   "metadata": {},
   "source": [
    "### Default `pandas` plot changed to bar chart\n",
    "\n",
    "To change the type of plot associated to `pandas`, we can specify the type of the chart using the `kind` argument.\n",
    "\n",
    "But in its current state, the readers won't know what 0 and 1 represents and what the numbers on the y-axis represent. So we need to label our plot."
   ]
  },
  {
   "cell_type": "code",
   "execution_count": 21,
   "metadata": {},
   "outputs": [
    {
     "data": {
      "image/png": "[encoded data removed]",
      "text/plain": [
       "<Figure size 576x432 with 1 Axes>"
      ]
     },
     "metadata": {
      "needs_background": "light"
     },
     "output_type": "display_data"
    }
   ],
   "source": [
    "# here we specify the figure size as well to make it follow an aspect ratio we like\n",
    "# the colors can also be set together with any other options for making the chart look \"pretty\"\n",
    "textColor = 'black'\n",
    "highlightColor = '#000000'\n",
    "\n",
    "plt.rcParams['text.color'] = textColor\n",
    "plt.rcParams['axes.labelcolor'] = highlightColor\n",
    "plt.rcParams['xtick.color'] = textColor\n",
    "plt.rcParams['ytick.color'] = textColor\n",
    "\n",
    "ax = lfs17['lf_partof'].value_counts().plot(figsize=(8, 6), kind='bar', color=['#68abb8', '#999999'], width=0.5)\n",
    "\n",
    "ax.set_xticklabels(['Part of Labor Force', 'Not Part'], rotation=0)\n",
    "ax.set_title('Labor Force Survey 2017')\n",
    "ax.set_ylabel('Adult Population');\n"
   ]
  },
  {
   "cell_type": "markdown",
   "metadata": {},
   "source": [
    "#### What is the distribution of the age of the passengers?"
   ]
  },
  {
   "cell_type": "code",
   "execution_count": 22,
   "metadata": {},
   "outputs": [
    {
     "data": {
      "text/plain": [
       "<AxesSubplot:>"
      ]
     },
     "execution_count": 22,
     "metadata": {},
     "output_type": "execute_result"
    },
    {
     "data": {
      "image/png": "[encoded data removed]",
      "text/plain": [
       "<Figure size 432x288 with 1 Axes>"
      ]
     },
     "metadata": {
      "needs_background": "light"
     },
     "output_type": "display_data"
    }
   ],
   "source": [
    "lfs17['age'].hist(bins=20, edgecolor='w')"
   ]
  },
  {
   "cell_type": "markdown",
   "metadata": {},
   "source": [
    "### Histograms\n",
    "\n",
    "To generate the distribution of a specific column in a `pandas` `DataFrame`, you can simply select the column with a numerical value and call `hist()`. You can adjust the bin size and colors according to your preference.\n",
    "\n",
    "For bin size, you may want to review the rule of thumb taught in the descriptive statistics module in Econ 116 (computing for the **class frequency**) \n"
   ]
  },
  {
   "cell_type": "code",
   "execution_count": 23,
   "metadata": {},
   "outputs": [
    {
     "data": {
      "image/png": "[encoded data removed]",
      "text/plain": [
       "<Figure size 720x360 with 1 Axes>"
      ]
     },
     "metadata": {
      "needs_background": "light"
     },
     "output_type": "display_data"
    }
   ],
   "source": [
    "ax = lfs17['age'].hist(bins=10, edgecolor='w', color='#c8586c',  figsize=(10, 5))\n",
    "\n",
    "# Here you can override the colors of set using rcParams by simply passing a value for the arguments.\n",
    "ax.set_title('Distribution of Adult Population According to Age',color='#c8586c', fontweight='bold')\n",
    "ax.set_xlabel('Age', color='#c8586c')\n",
    "ax.set_ylabel('Population', color='#c8586c');\n",
    "\n",
    "# To remove the spines of the chart manually, you can choose to set the visibility to False\n",
    "ax.spines['right'].set_visible(False)\n",
    "ax.spines['top'].set_visible(True)\n",
    "ax.xaxis.grid(True)"
   ]
  },
  {
   "cell_type": "markdown",
   "metadata": {},
   "source": [
    "We can see that the peak is somewhere around 18 to 20."
   ]
  },
  {
   "cell_type": "markdown",
   "metadata": {},
   "source": [
    "<hr>\n",
    "\n",
    "To better visualize the \"average\" age, let's try adding the `mean` and `median` of the age distribution using \n",
    "\n",
    "```ipython\n",
    "ax.axvline(x=value)\n",
    "```"
   ]
  },
  {
   "cell_type": "code",
   "execution_count": 24,
   "metadata": {},
   "outputs": [
    {
     "data": {
      "image/png": "[encoded data removed]",
      "text/plain": [
       "<Figure size 720x360 with 1 Axes>"
      ]
     },
     "metadata": {
      "needs_background": "light"
     },
     "output_type": "display_data"
    }
   ],
   "source": [
    "ax = lfs17['age'].hist(bins=15, edgecolor='w', color='#f5ba98',  figsize=(10, 5))\n",
    "\n",
    "# Here you can override the colors of set using rcParams by simply passing a value for the arguments.\n",
    "ax.set_title('Distribution of Adult Population According to Age', color='#c8586c', fontweight='bold')\n",
    "ax.set_xlabel('Age', color='#c8586c')\n",
    "ax.set_ylabel('Population', color='#c8586c');\n",
    "\n",
    "# To remove the spines of the chart manually, you can choose to set the visibility to False\n",
    "ax.spines['right'].set_visible(False)\n",
    "ax.spines['top'].set_visible(False)\n",
    "ax.xaxis.grid(False)\n",
    "\n",
    "ax.axvline(x=lfs17['age'].mean(), color='#70284a', linestyle='--', label='mean')\n",
    "ax.axvline(x=lfs17['age'].median(), color='#dc7176', linewidth=4, label='median')\n",
    "ax.legend(fontsize=14);\n"
   ]
  },
  {
   "cell_type": "markdown",
   "metadata": {},
   "source": [
    "This is basically the same plot but wuth some \"threshold\" or marker set for the mean and the median.\n",
    "\n",
    "**Review of Econ 116**: What is the skewness of the distribution if **median < mean?** \n"
   ]
  },
  {
   "cell_type": "markdown",
   "metadata": {},
   "source": [
    "### Boxplots ###"
   ]
  },
  {
   "cell_type": "code",
   "execution_count": 25,
   "metadata": {},
   "outputs": [
    {
     "data": {
      "text/plain": [
       "\u001b[0;31mSignature:\u001b[0m\n",
       "\u001b[0mplt\u001b[0m\u001b[0;34m.\u001b[0m\u001b[0mboxplot\u001b[0m\u001b[0;34m(\u001b[0m\u001b[0;34m\u001b[0m\n",
       "\u001b[0;34m\u001b[0m    \u001b[0mx\u001b[0m\u001b[0;34m,\u001b[0m\u001b[0;34m\u001b[0m\n",
       "\u001b[0;34m\u001b[0m    \u001b[0mnotch\u001b[0m\u001b[0;34m=\u001b[0m\u001b[0;32mNone\u001b[0m\u001b[0;34m,\u001b[0m\u001b[0;34m\u001b[0m\n",
       "\u001b[0;34m\u001b[0m    \u001b[0msym\u001b[0m\u001b[0;34m=\u001b[0m\u001b[0;32mNone\u001b[0m\u001b[0;34m,\u001b[0m\u001b[0;34m\u001b[0m\n",
       "\u001b[0;34m\u001b[0m    \u001b[0mvert\u001b[0m\u001b[0;34m=\u001b[0m\u001b[0;32mNone\u001b[0m\u001b[0;34m,\u001b[0m\u001b[0;34m\u001b[0m\n",
       "\u001b[0;34m\u001b[0m    \u001b[0mwhis\u001b[0m\u001b[0;34m=\u001b[0m\u001b[0;32mNone\u001b[0m\u001b[0;34m,\u001b[0m\u001b[0;34m\u001b[0m\n",
       "\u001b[0;34m\u001b[0m    \u001b[0mpositions\u001b[0m\u001b[0;34m=\u001b[0m\u001b[0;32mNone\u001b[0m\u001b[0;34m,\u001b[0m\u001b[0;34m\u001b[0m\n",
       "\u001b[0;34m\u001b[0m    \u001b[0mwidths\u001b[0m\u001b[0;34m=\u001b[0m\u001b[0;32mNone\u001b[0m\u001b[0;34m,\u001b[0m\u001b[0;34m\u001b[0m\n",
       "\u001b[0;34m\u001b[0m    \u001b[0mpatch_artist\u001b[0m\u001b[0;34m=\u001b[0m\u001b[0;32mNone\u001b[0m\u001b[0;34m,\u001b[0m\u001b[0;34m\u001b[0m\n",
       "\u001b[0;34m\u001b[0m    \u001b[0mbootstrap\u001b[0m\u001b[0;34m=\u001b[0m\u001b[0;32mNone\u001b[0m\u001b[0;34m,\u001b[0m\u001b[0;34m\u001b[0m\n",
       "\u001b[0;34m\u001b[0m    \u001b[0musermedians\u001b[0m\u001b[0;34m=\u001b[0m\u001b[0;32mNone\u001b[0m\u001b[0;34m,\u001b[0m\u001b[0;34m\u001b[0m\n",
       "\u001b[0;34m\u001b[0m    \u001b[0mconf_intervals\u001b[0m\u001b[0;34m=\u001b[0m\u001b[0;32mNone\u001b[0m\u001b[0;34m,\u001b[0m\u001b[0;34m\u001b[0m\n",
       "\u001b[0;34m\u001b[0m    \u001b[0mmeanline\u001b[0m\u001b[0;34m=\u001b[0m\u001b[0;32mNone\u001b[0m\u001b[0;34m,\u001b[0m\u001b[0;34m\u001b[0m\n",
       "\u001b[0;34m\u001b[0m    \u001b[0mshowmeans\u001b[0m\u001b[0;34m=\u001b[0m\u001b[0;32mNone\u001b[0m\u001b[0;34m,\u001b[0m\u001b[0;34m\u001b[0m\n",
       "\u001b[0;34m\u001b[0m    \u001b[0mshowcaps\u001b[0m\u001b[0;34m=\u001b[0m\u001b[0;32mNone\u001b[0m\u001b[0;34m,\u001b[0m\u001b[0;34m\u001b[0m\n",
       "\u001b[0;34m\u001b[0m    \u001b[0mshowbox\u001b[0m\u001b[0;34m=\u001b[0m\u001b[0;32mNone\u001b[0m\u001b[0;34m,\u001b[0m\u001b[0;34m\u001b[0m\n",
       "\u001b[0;34m\u001b[0m    \u001b[0mshowfliers\u001b[0m\u001b[0;34m=\u001b[0m\u001b[0;32mNone\u001b[0m\u001b[0;34m,\u001b[0m\u001b[0;34m\u001b[0m\n",
       "\u001b[0;34m\u001b[0m    \u001b[0mboxprops\u001b[0m\u001b[0;34m=\u001b[0m\u001b[0;32mNone\u001b[0m\u001b[0;34m,\u001b[0m\u001b[0;34m\u001b[0m\n",
       "\u001b[0;34m\u001b[0m    \u001b[0mlabels\u001b[0m\u001b[0;34m=\u001b[0m\u001b[0;32mNone\u001b[0m\u001b[0;34m,\u001b[0m\u001b[0;34m\u001b[0m\n",
       "\u001b[0;34m\u001b[0m    \u001b[0mflierprops\u001b[0m\u001b[0;34m=\u001b[0m\u001b[0;32mNone\u001b[0m\u001b[0;34m,\u001b[0m\u001b[0;34m\u001b[0m\n",
       "\u001b[0;34m\u001b[0m    \u001b[0mmedianprops\u001b[0m\u001b[0;34m=\u001b[0m\u001b[0;32mNone\u001b[0m\u001b[0;34m,\u001b[0m\u001b[0;34m\u001b[0m\n",
       "\u001b[0;34m\u001b[0m    \u001b[0mmeanprops\u001b[0m\u001b[0;34m=\u001b[0m\u001b[0;32mNone\u001b[0m\u001b[0;34m,\u001b[0m\u001b[0;34m\u001b[0m\n",
       "\u001b[0;34m\u001b[0m    \u001b[0mcapprops\u001b[0m\u001b[0;34m=\u001b[0m\u001b[0;32mNone\u001b[0m\u001b[0;34m,\u001b[0m\u001b[0;34m\u001b[0m\n",
       "\u001b[0;34m\u001b[0m    \u001b[0mwhiskerprops\u001b[0m\u001b[0;34m=\u001b[0m\u001b[0;32mNone\u001b[0m\u001b[0;34m,\u001b[0m\u001b[0;34m\u001b[0m\n",
       "\u001b[0;34m\u001b[0m    \u001b[0mmanage_ticks\u001b[0m\u001b[0;34m=\u001b[0m\u001b[0;32mTrue\u001b[0m\u001b[0;34m,\u001b[0m\u001b[0;34m\u001b[0m\n",
       "\u001b[0;34m\u001b[0m    \u001b[0mautorange\u001b[0m\u001b[0;34m=\u001b[0m\u001b[0;32mFalse\u001b[0m\u001b[0;34m,\u001b[0m\u001b[0;34m\u001b[0m\n",
       "\u001b[0;34m\u001b[0m    \u001b[0mzorder\u001b[0m\u001b[0;34m=\u001b[0m\u001b[0;32mNone\u001b[0m\u001b[0;34m,\u001b[0m\u001b[0;34m\u001b[0m\n",
       "\u001b[0;34m\u001b[0m    \u001b[0;34m*\u001b[0m\u001b[0;34m,\u001b[0m\u001b[0;34m\u001b[0m\n",
       "\u001b[0;34m\u001b[0m    \u001b[0mdata\u001b[0m\u001b[0;34m=\u001b[0m\u001b[0;32mNone\u001b[0m\u001b[0;34m,\u001b[0m\u001b[0;34m\u001b[0m\n",
       "\u001b[0;34m\u001b[0m\u001b[0;34m)\u001b[0m\u001b[0;34m\u001b[0m\u001b[0;34m\u001b[0m\u001b[0m\n",
       "\u001b[0;31mDocstring:\u001b[0m\n",
       "Draw a box and whisker plot.\n",
       "\n",
       "The box extends from the first quartile (Q1) to the third\n",
       "quartile (Q3) of the data, with a line at the median.  The\n",
       "whiskers extend from the box by 1.5x the inter-quartile range\n",
       "(IQR).  Flier points are those past the end of the whiskers.\n",
       "See https://en.wikipedia.org/wiki/Box_plot for reference.\n",
       "\n",
       ".. code-block:: none\n",
       "\n",
       "          Q1-1.5IQR   Q1   median  Q3   Q3+1.5IQR\n",
       "                       |-----:-----|\n",
       "       o      |--------|     :     |--------|    o  o\n",
       "                       |-----:-----|\n",
       "     flier             <----------->            fliers\n",
       "                            IQR\n",
       "\n",
       "\n",
       "Parameters\n",
       "----------\n",
       "x : Array or a sequence of vectors.\n",
       "    The input data.  If a 2D array, a boxplot is drawn for each column\n",
       "    in *x*.  If a sequence of 1D arrays, a boxplot is drawn for each\n",
       "    array in *x*.\n",
       "\n",
       "notch : bool, default: False\n",
       "    Whether to draw a notched boxplot (`True`), or a rectangular\n",
       "    boxplot (`False`).  The notches represent the confidence interval\n",
       "    (CI) around the median.  The documentation for *bootstrap*\n",
       "    describes how the locations of the notches are computed by\n",
       "    default, but their locations may also be overridden by setting the\n",
       "    *conf_intervals* parameter.\n",
       "\n",
       "    .. note::\n",
       "\n",
       "        In cases where the values of the CI are less than the\n",
       "        lower quartile or greater than the upper quartile, the\n",
       "        notches will extend beyond the box, giving it a\n",
       "        distinctive \"flipped\" appearance. This is expected\n",
       "        behavior and consistent with other statistical\n",
       "        visualization packages.\n",
       "\n",
       "sym : str, optional\n",
       "    The default symbol for flier points.  An empty string ('') hides\n",
       "    the fliers.  If `None`, then the fliers default to 'b+'.  More\n",
       "    control is provided by the *flierprops* parameter.\n",
       "\n",
       "vert : bool, default: True\n",
       "    If `True`, draws vertical boxes.\n",
       "    If `False`, draw horizontal boxes.\n",
       "\n",
       "whis : float or (float, float), default: 1.5\n",
       "    The position of the whiskers.\n",
       "\n",
       "    If a float, the lower whisker is at the lowest datum above\n",
       "    ``Q1 - whis*(Q3-Q1)``, and the upper whisker at the highest datum\n",
       "    below ``Q3 + whis*(Q3-Q1)``, where Q1 and Q3 are the first and\n",
       "    third quartiles.  The default value of ``whis = 1.5`` corresponds\n",
       "    to Tukey's original definition of boxplots.\n",
       "\n",
       "    If a pair of floats, they indicate the percentiles at which to\n",
       "    draw the whiskers (e.g., (5, 95)).  In particular, setting this to\n",
       "    (0, 100) results in whiskers covering the whole range of the data.\n",
       "\n",
       "    In the edge case where ``Q1 == Q3``, *whis* is automatically set\n",
       "    to (0, 100) (cover the whole range of the data) if *autorange* is\n",
       "    True.\n",
       "\n",
       "    Beyond the whiskers, data are considered outliers and are plotted\n",
       "    as individual points.\n",
       "\n",
       "bootstrap : int, optional\n",
       "    Specifies whether to bootstrap the confidence intervals\n",
       "    around the median for notched boxplots. If *bootstrap* is\n",
       "    None, no bootstrapping is performed, and notches are\n",
       "    calculated using a Gaussian-based asymptotic approximation\n",
       "    (see McGill, R., Tukey, J.W., and Larsen, W.A., 1978, and\n",
       "    Kendall and Stuart, 1967). Otherwise, bootstrap specifies\n",
       "    the number of times to bootstrap the median to determine its\n",
       "    95% confidence intervals. Values between 1000 and 10000 are\n",
       "    recommended.\n",
       "\n",
       "usermedians : 1D array-like, optional\n",
       "    A 1D array-like of length ``len(x)``.  Each entry that is not\n",
       "    `None` forces the value of the median for the corresponding\n",
       "    dataset.  For entries that are `None`, the medians are computed\n",
       "    by Matplotlib as normal.\n",
       "\n",
       "conf_intervals : array-like, optional\n",
       "    A 2D array-like of shape ``(len(x), 2)``.  Each entry that is not\n",
       "    None forces the location of the corresponding notch (which is\n",
       "    only drawn if *notch* is `True`).  For entries that are `None`,\n",
       "    the notches are computed by the method specified by the other\n",
       "    parameters (e.g., *bootstrap*).\n",
       "\n",
       "positions : array-like, optional\n",
       "    The positions of the boxes. The ticks and limits are\n",
       "    automatically set to match the positions. Defaults to\n",
       "    ``range(1, N+1)`` where N is the number of boxes to be drawn.\n",
       "\n",
       "widths : float or array-like\n",
       "    The widths of the boxes.  The default is 0.5, or ``0.15*(distance\n",
       "    between extreme positions)``, if that is smaller.\n",
       "\n",
       "patch_artist : bool, default: False\n",
       "    If `False` produces boxes with the Line2D artist. Otherwise,\n",
       "    boxes are drawn with Patch artists.\n",
       "\n",
       "labels : sequence, optional\n",
       "    Labels for each dataset (one per dataset).\n",
       "\n",
       "manage_ticks : bool, default: True\n",
       "    If True, the tick locations and labels will be adjusted to match\n",
       "    the boxplot positions.\n",
       "\n",
       "autorange : bool, default: False\n",
       "    When `True` and the data are distributed such that the 25th and\n",
       "    75th percentiles are equal, *whis* is set to (0, 100) such\n",
       "    that the whisker ends are at the minimum and maximum of the data.\n",
       "\n",
       "meanline : bool, default: False\n",
       "    If `True` (and *showmeans* is `True`), will try to render the\n",
       "    mean as a line spanning the full width of the box according to\n",
       "    *meanprops* (see below).  Not recommended if *shownotches* is also\n",
       "    True.  Otherwise, means will be shown as points.\n",
       "\n",
       "zorder : float, default: ``Line2D.zorder = 2``\n",
       "    The zorder of the boxplot.\n",
       "\n",
       "Returns\n",
       "-------\n",
       "dict\n",
       "  A dictionary mapping each component of the boxplot to a list\n",
       "  of the `.Line2D` instances created. That dictionary has the\n",
       "  following keys (assuming vertical boxplots):\n",
       "\n",
       "  - ``boxes``: the main body of the boxplot showing the\n",
       "    quartiles and the median's confidence intervals if\n",
       "    enabled.\n",
       "\n",
       "  - ``medians``: horizontal lines at the median of each box.\n",
       "\n",
       "  - ``whiskers``: the vertical lines extending to the most\n",
       "    extreme, non-outlier data points.\n",
       "\n",
       "  - ``caps``: the horizontal lines at the ends of the\n",
       "    whiskers.\n",
       "\n",
       "  - ``fliers``: points representing data that extend beyond\n",
       "    the whiskers (fliers).\n",
       "\n",
       "  - ``means``: points or lines representing the means.\n",
       "\n",
       "Other Parameters\n",
       "----------------\n",
       "showcaps : bool, default: True\n",
       "    Show the caps on the ends of whiskers.\n",
       "showbox : bool, default: True\n",
       "    Show the central box.\n",
       "showfliers : bool, default: True\n",
       "    Show the outliers beyond the caps.\n",
       "showmeans : bool, default: False\n",
       "    Show the arithmetic means.\n",
       "capprops : dict, default: None\n",
       "    The style of the caps.\n",
       "boxprops : dict, default: None\n",
       "    The style of the box.\n",
       "whiskerprops : dict, default: None\n",
       "    The style of the whiskers.\n",
       "flierprops : dict, default: None\n",
       "    The style of the fliers.\n",
       "medianprops : dict, default: None\n",
       "    The style of the median.\n",
       "meanprops : dict, default: None\n",
       "    The style of the mean.\n",
       "data : indexable object, optional\n",
       "    If given, all parameters also accept a string ``s``, which is\n",
       "    interpreted as ``data[s]`` (unless this raises an exception).\n",
       "\n",
       "See Also\n",
       "--------\n",
       "violinplot : Draw an estimate of the probability density function.\n",
       "\u001b[0;31mFile:\u001b[0m      ~/Library/jupyterlab-desktop/jlab_server/lib/python3.8/site-packages/matplotlib/pyplot.py\n",
       "\u001b[0;31mType:\u001b[0m      function\n"
      ]
     },
     "metadata": {},
     "output_type": "display_data"
    }
   ],
   "source": [
    "#Alternative option: BOX PLOT\n",
    "plt.boxplot?"
   ]
  },
  {
   "cell_type": "code",
   "execution_count": 26,
   "metadata": {},
   "outputs": [
    {
     "data": {
      "image/png": "[encoded data removed]",
      "text/plain": [
       "<Figure size 576x432 with 1 Axes>"
      ]
     },
     "metadata": {
      "needs_background": "light"
     },
     "output_type": "display_data"
    }
   ],
   "source": [
    "fig = plt.figure(figsize=(8,6))\n",
    "ax = fig.gca()\n",
    "\n",
    "#MATPLOTLIB\n",
    "plt.boxplot(x=lfs17.age, vert=False)\n",
    "\n",
    "#SEABORN\n",
    "#sns.boxplot(data=lfs17.age, orient='h', fliersize=10, linewidth=1.5, notch=True, saturation=0.5, ax=ax)\n",
    "\n",
    "#Axis properties, usable with either the matplotlib or seaborn version of the boxplot\n",
    "ax.set_xlabel('age\\n', fontsize=16)\n",
    "ax.set_title('Distribution of Population According to Age \\n', fontsize=20)\n",
    "\n",
    "plt.show()"
   ]
  },
  {
   "cell_type": "markdown",
   "metadata": {
    "tags": []
   },
   "source": [
    "## Multivariable Exploratory Analysis\n",
    "\n",
    "The previous questions were concerned with describing one variable at a time. Let's try to visualize the data with more than one variable."
   ]
  },
  {
   "cell_type": "markdown",
   "metadata": {},
   "source": [
    "#### What is the distribution of the age of those who are part of the labor force, and those who are not? \n",
    "\n",
    "From the comparative visualization of the two distributions, can you spot a difference?"
   ]
  },
  {
   "cell_type": "code",
   "execution_count": 27,
   "metadata": {},
   "outputs": [
    {
     "data": {
      "image/png": "[encoded data removed]",
      "text/plain": [
       "<Figure size 576x432 with 1 Axes>"
      ]
     },
     "metadata": {
      "needs_background": "light"
     },
     "output_type": "display_data"
    }
   ],
   "source": [
    "'''\n",
    "#BOX PLOT 2 Example. Note: This more complicated example which breaks down labor force participation \\\n",
    "according to age is easier to model with a boxplot using SEABORN\n",
    "'''\n",
    "\n",
    "fig = plt.figure(figsize=(8,6))\n",
    "ax = fig.gca()\n",
    "\n",
    "sns.boxplot(x=lfs17.age, y=lfs17.lf_partof, orient='h', fliersize=10, linewidth=1.5, notch=True, \\\n",
    "            saturation=0.5, ax=ax)\n",
    "\n",
    "ax.set_xlabel('age\\n', fontsize=16)\n",
    "ax.set_ylabel('Labor Force (LF)', fontsize=16)\n",
    "ax.set_yticklabels(['Part of LF', 'Not Part of LF'], fontsize=14)\n",
    "ax.set_title('Distribution of Population According to Age \\n', fontsize=22)\n",
    "\n",
    "plt.show()"
   ]
  },
  {
   "cell_type": "code",
   "execution_count": 28,
   "metadata": {},
   "outputs": [],
   "source": [
    "#BACK TO HISTOGRAMS and BAR CHARTS. Let's first divide our dataset according to the following:\n",
    "lf_partof = lfs17.loc[lfs17['lf_partof'] == 1]\n",
    "lf_notpartof = lfs17.loc[lfs17['lf_partof'] == 0]"
   ]
  },
  {
   "cell_type": "code",
   "execution_count": 29,
   "metadata": {},
   "outputs": [
    {
     "data": {
      "image/png": "[encoded data removed]",
      "text/plain": [
       "<Figure size 720x360 with 1 Axes>"
      ]
     },
     "metadata": {
      "needs_background": "light"
     },
     "output_type": "display_data"
    }
   ],
   "source": [
    "axes_object = lf_partof['age'].hist(bins=15, alpha=0.8, color='#68abb8', label='lf_partof', figsize=(10, 5))\n",
    "\n",
    "# To make overlapping plots, you can simply reuse the same `Axes` object.\n",
    "# We can also adjust the opacity or the alpha channel by specifying a value less than 1.\n",
    "lf_notpartof['age'].hist(ax=axes_object, bins=15, alpha=0.5, color='#999999', label='lf_notpartof')\n",
    "\n",
    "axes_object.set_title('Distribution of Population according to Age and Labor Force Participation', fontsize=20)\n",
    "axes_object.set_xlabel('age', fontsize=16)\n",
    "axes_object.set_ylabel('population', fontsize=16)\n",
    "axes_object.legend(fontsize=14);"
   ]
  },
  {
   "cell_type": "markdown",
   "metadata": {},
   "source": [
    "Overlapping the histograms doesn't really give a good view."
   ]
  },
  {
   "cell_type": "code",
   "execution_count": 30,
   "metadata": {},
   "outputs": [
    {
     "data": {
      "image/png": "[encoded data removed]",
      "text/plain": [
       "<Figure size 1080x432 with 2 Axes>"
      ]
     },
     "metadata": {
      "needs_background": "light"
     },
     "output_type": "display_data"
    }
   ],
   "source": [
    "# Here we create a figure to hold 2 side by side (juxtaposed) plots\n",
    "fig = plt.figure(figsize=(15, 6))\n",
    "\n",
    "# adding a subplot manually, we need to specify the row, columns, index of plot\n",
    "ax = fig.add_subplot(1,2,1)\n",
    "\n",
    "lf_partof['age'].hist(ax=ax, bins=15, edgecolor='w', color='#68abb8')\n",
    "ax.set_title('Age Distribution of Adults Part of Labor Force', fontsize=18)\n",
    "ax.set_xlabel('Age', fontsize=14)\n",
    "ax.set_ylabel('Population', fontsize=14)\n",
    "ax.set_xlim([10, 90]) # setting the same limit for both plots\n",
    "ax.set_ylim([0, 16000]) # setting the same limit for both plots\n",
    "ax.spines['right'].set_visible(False)\n",
    "ax.spines['top'].set_visible(False)\n",
    "ax.xaxis.grid(False)\n",
    "\n",
    "# adding a subplot manually, we need to specify the row, columns, index of plot\n",
    "ax2 = fig.add_subplot(1,2,2)\n",
    "\n",
    "lf_notpartof['age'].hist(ax=ax2, bins=15, edgecolor='w', color='#999999')\n",
    "ax2.set_title('Age Distribution of Adults Not Part of Labor Force', fontsize=18)\n",
    "ax2.set_xlabel('Age', fontsize=14)\n",
    "ax2.set_ylabel('Population', fontsize=14)\n",
    "ax2.set_xlim([10, 90]) # setting the same limit for both plots\n",
    "ax2.set_ylim([0, 16000]) # setting the same limit for both plots\n",
    "ax2.spines['right'].set_visible(False)\n",
    "ax2.spines['top'].set_visible(False)\n",
    "ax2.xaxis.grid(False)\n",
    "\n",
    "plt.tight_layout() # this adjusts and makes the figures fit in the frame \"tightly\""
   ]
  },
  {
   "cell_type": "code",
   "execution_count": 31,
   "metadata": {},
   "outputs": [
    {
     "data": {
      "text/html": [
       "<div>\n",
       "<style scoped>\n",
       "    .dataframe tbody tr th:only-of-type {\n",
       "        vertical-align: middle;\n",
       "    }\n",
       "\n",
       "    .dataframe tbody tr th {\n",
       "        vertical-align: top;\n",
       "    }\n",
       "\n",
       "    .dataframe thead th {\n",
       "        text-align: right;\n",
       "    }\n",
       "</style>\n",
       "<table border=\"1\" class=\"dataframe\">\n",
       "  <thead>\n",
       "    <tr style=\"text-align: right;\">\n",
       "      <th>male</th>\n",
       "      <th>0</th>\n",
       "      <th>1</th>\n",
       "    </tr>\n",
       "    <tr>\n",
       "      <th>lf_partof</th>\n",
       "      <th></th>\n",
       "      <th></th>\n",
       "    </tr>\n",
       "  </thead>\n",
       "  <tbody>\n",
       "    <tr>\n",
       "      <th>0</th>\n",
       "      <td>32240</td>\n",
       "      <td>14230</td>\n",
       "    </tr>\n",
       "    <tr>\n",
       "      <th>1</th>\n",
       "      <td>27325</td>\n",
       "      <td>45400</td>\n",
       "    </tr>\n",
       "  </tbody>\n",
       "</table>\n",
       "</div>"
      ],
      "text/plain": [
       "male           0      1\n",
       "lf_partof              \n",
       "0          32240  14230\n",
       "1          27325  45400"
      ]
     },
     "execution_count": 31,
     "metadata": {},
     "output_type": "execute_result"
    }
   ],
   "source": [
    "# What about the gender of the labor force? \n",
    "\n",
    "bygender1 = lfs17.groupby('lf_partof')['male'].value_counts().unstack()\n",
    "bygender1\n",
    "\n",
    "#OR\n",
    "\n",
    "#bygender2 = lfs17.groupby('lf_partof')['female'].value_counts().unstack()\n",
    "#print(bygender2)"
   ]
  },
  {
   "cell_type": "code",
   "execution_count": 32,
   "metadata": {},
   "outputs": [],
   "source": [
    "male = bygender1[1]\n",
    "female = bygender1[0]"
   ]
  },
  {
   "cell_type": "markdown",
   "metadata": {
    "tags": []
   },
   "source": [
    "### Stacked bar chart"
   ]
  },
  {
   "cell_type": "code",
   "execution_count": 33,
   "metadata": {},
   "outputs": [
    {
     "data": {
      "image/png": "[encoded data removed]",
      "text/plain": [
       "<Figure size 576x360 with 1 Axes>"
      ]
     },
     "metadata": {
      "needs_background": "light"
     },
     "output_type": "display_data"
    }
   ],
   "source": [
    "fig = plt.figure(figsize=(8, 5))\n",
    "ax = fig.add_subplot(111)\n",
    "\n",
    "ax.bar(male.index, male, color='#009392', width=0.5, label='Male')\n",
    "\n",
    "# To stack them on top of one another, we can use the argument bottom\n",
    "ax.bar(female.index, female, bottom=male, color='#d0587e', width=0.5, label='Female')\n",
    "\n",
    "ax.set_xticks([0, 1])\n",
    "ax.set_xticklabels(['Not Part of LF', 'Part of LF'], fontsize=14)\n",
    "ax.set_title('Labor Force by LF Participation and Gender', fontsize=18)\n",
    "ax.set_xlabel('Labor Force Participation', fontsize=14)\n",
    "ax.set_ylabel('Population', fontsize=14)\n",
    "ax.legend(fontsize=14);"
   ]
  },
  {
   "cell_type": "markdown",
   "metadata": {},
   "source": [
    "<hr>\n",
    "\n",
    "An alternative way to plot the bar charts is directly through `pandas`.\n",
    "\n",
    "We'll use the Labor Force Participation and HS Education Attainment as the keys for this example."
   ]
  },
  {
   "cell_type": "code",
   "execution_count": 34,
   "metadata": {},
   "outputs": [
    {
     "data": {
      "text/html": [
       "<div>\n",
       "<style scoped>\n",
       "    .dataframe tbody tr th:only-of-type {\n",
       "        vertical-align: middle;\n",
       "    }\n",
       "\n",
       "    .dataframe tbody tr th {\n",
       "        vertical-align: top;\n",
       "    }\n",
       "\n",
       "    .dataframe thead th {\n",
       "        text-align: right;\n",
       "    }\n",
       "</style>\n",
       "<table border=\"1\" class=\"dataframe\">\n",
       "  <thead>\n",
       "    <tr style=\"text-align: right;\">\n",
       "      <th>hs_under</th>\n",
       "      <th>0</th>\n",
       "      <th>1</th>\n",
       "    </tr>\n",
       "    <tr>\n",
       "      <th>lf_partof</th>\n",
       "      <th></th>\n",
       "      <th></th>\n",
       "    </tr>\n",
       "  </thead>\n",
       "  <tbody>\n",
       "    <tr>\n",
       "      <th>0</th>\n",
       "      <td>21806</td>\n",
       "      <td>24664</td>\n",
       "    </tr>\n",
       "    <tr>\n",
       "      <th>1</th>\n",
       "      <td>41380</td>\n",
       "      <td>31345</td>\n",
       "    </tr>\n",
       "  </tbody>\n",
       "</table>\n",
       "</div>"
      ],
      "text/plain": [
       "hs_under       0      1\n",
       "lf_partof              \n",
       "0          21806  24664\n",
       "1          41380  31345"
      ]
     },
     "execution_count": 34,
     "metadata": {},
     "output_type": "execute_result"
    }
   ],
   "source": [
    "hs_under = lfs17.groupby('lf_partof')['hs_under'].value_counts().unstack()\n",
    "hs_under"
   ]
  },
  {
   "cell_type": "code",
   "execution_count": 35,
   "metadata": {},
   "outputs": [
    {
     "data": {
      "image/png": "[encoded data removed]",
      "text/plain": [
       "<Figure size 576x360 with 1 Axes>"
      ]
     },
     "metadata": {
      "needs_background": "light"
     },
     "output_type": "display_data"
    }
   ],
   "source": [
    "ax = hs_under.plot(kind='bar', figsize=(8, 5), color=['#6cc08b','#217a79'])\n",
    "\n",
    "ax.set_title('Labor Force Participation by HS Education', fontsize=20)\n",
    "ax.set_xticklabels(['Not Part of LF', 'Part of LF'], rotation=0, fontsize=15)\n",
    "ax.set_xlabel('')\n",
    "ax.set_ylabel('No. of Passengers', fontsize=15);"
   ]
  },
  {
   "cell_type": "code",
   "execution_count": null,
   "metadata": {},
   "outputs": [],
   "source": []
  },
  {
   "cell_type": "code",
   "execution_count": null,
   "metadata": {},
   "outputs": [],
   "source": []
  }
 ],
 "metadata": {
  "kernelspec": {
   "display_name": "Python 3 (ipykernel)",
   "language": "python",
   "name": "python3"
  },
  "language_info": {
   "codemirror_mode": {
    "name": "ipython",
    "version": 3
   },
   "file_extension": ".py",
   "mimetype": "text/x-python",
   "name": "python",
   "nbconvert_exporter": "python",
   "pygments_lexer": "ipython3",
   "version": "3.8.13"
  }
 },
 "nbformat": 4,
 "nbformat_minor": 4
}
